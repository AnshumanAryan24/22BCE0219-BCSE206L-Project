{
  "nbformat": 4,
  "nbformat_minor": 0,
  "metadata": {
    "colab": {
      "provenance": [],
      "authorship_tag": "ABX9TyN5bQnbpJn5xbuSg/wJRkOX",
      "include_colab_link": true
    },
    "kernelspec": {
      "name": "python3",
      "display_name": "Python 3"
    },
    "language_info": {
      "name": "python"
    }
  },
  "cells": [
    {
      "cell_type": "markdown",
      "metadata": {
        "id": "view-in-github",
        "colab_type": "text"
      },
      "source": [
        "<a href=\"https://colab.research.google.com/github/AnshumanAryan24/22BCE0219-BCSE206L-Project/blob/main/notebooks/BCSE206L_Review1.ipynb\" target=\"_parent\"><img src=\"https://colab.research.google.com/assets/colab-badge.svg\" alt=\"Open In Colab\"/></a>"
      ]
    },
    {
      "cell_type": "code",
      "execution_count": null,
      "metadata": {
        "id": "WEuR9dQCwYqj"
      },
      "outputs": [],
      "source": [
        "import pandas as pd\n",
        "import numpy as np\n",
        "import matplotlib.pyplot as plt\n",
        "import statistics as st"
      ]
    },
    {
      "cell_type": "code",
      "source": [
        " df = pd.read_csv('/content/Fertility2.csv')"
      ],
      "metadata": {
        "id": "ARZZN3R4wi2N"
      },
      "execution_count": null,
      "outputs": []
    },
    {
      "cell_type": "code",
      "source": [
        "l = df.size\n",
        "for col in df.columns:\n",
        "  data = df[col]\n",
        "  print(f\"column: {col} \\t dataype: {type(data[0])} \", end = \"\")\n",
        "  if (col=='age' or col=='work'):\n",
        "    print(f\"Std. dev: {st.stdev(data)} \\t mean: {st.mean(data)}\", end=\"\")\n",
        "  else:\n",
        "    print(f\"Yes: {100*len(data[data=='yes'])/len(data)} \\t No: {100*len(data[data=='no'])/len(data)}\", end=\"\")\n",
        "  print()"
      ],
      "metadata": {
        "colab": {
          "base_uri": "https://localhost:8080/"
        },
        "id": "RuJ_Nh2rwrKI",
        "outputId": "2f0b25e5-70e0-468d-ea7a-6dbc48979fe5"
      },
      "execution_count": null,
      "outputs": [
        {
          "output_type": "stream",
          "name": "stdout",
          "text": [
            "column: rownames \t dataype: <class 'numpy.int64'> Yes: 0.0 \t No: 0.0\n",
            "column: morekids \t dataype: <class 'str'> Yes: 37.76 \t No: 62.24\n",
            "column: gender1 \t dataype: <class 'str'> Yes: 0.0 \t No: 0.0\n",
            "column: gender2 \t dataype: <class 'str'> Yes: 0.0 \t No: 0.0\n",
            "column: age \t dataype: <class 'numpy.int64'> Std. dev: 3.3834316971418033 \t mean: 30.354266666666668\n",
            "column: afam \t dataype: <class 'str'> Yes: 5.326666666666667 \t No: 94.67333333333333\n",
            "column: hispanic \t dataype: <class 'str'> Yes: 7.44 \t No: 92.56\n",
            "column: other \t dataype: <class 'str'> Yes: 5.683333333333334 \t No: 94.31666666666666\n",
            "column: work \t dataype: <class 'numpy.int64'> Std. dev: 21.941017676759884 \t mean: 19.2095\n"
          ]
        }
      ]
    },
    {
      "cell_type": "code",
      "source": [
        "l = df.size\n",
        "for col in {'gender1', 'gender2'}:\n",
        "  data = df[col]\n",
        "  print(f\"column: {col} \\t dataype: {type(data[0])} \", end = \"\")\n",
        "  if (type(data) in {np.int64, np.float32}):\n",
        "    print(f\"Std. dev: {st.stdev(data)} \\t mean: {st.mean(data)}\", end=\"\")\n",
        "  else:\n",
        "    print(f\"Male: {100*len(data[data=='male'])/len(data)} \\t Female: {100*len(data[data=='female'])/len(data)}\", end=\"\")\n",
        "  print()"
      ],
      "metadata": {
        "colab": {
          "base_uri": "https://localhost:8080/"
        },
        "id": "AIx-a3DGz6fz",
        "outputId": "6f68c275-c26b-470e-b49a-e1ca08b1f817"
      },
      "execution_count": null,
      "outputs": [
        {
          "output_type": "stream",
          "name": "stdout",
          "text": [
            "column: gender1 \t dataype: <class 'str'> Male: 51.50333333333333 \t Female: 48.49666666666667\n",
            "column: gender2 \t dataype: <class 'str'> Male: 50.60666666666667 \t Female: 49.39333333333333\n"
          ]
        }
      ]
    }
  ]
}